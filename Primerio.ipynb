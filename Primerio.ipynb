{
  "nbformat": 4,
  "nbformat_minor": 0,
  "metadata": {
    "colab": {
      "provenance": []
    },
    "kernelspec": {
      "name": "python3",
      "display_name": "Python 3"
    },
    "language_info": {
      "name": "python"
    }
  },
  "cells": [
    {
      "cell_type": "markdown",
      "source": [
        "# Operadores aritméticos"
      ],
      "metadata": {
        "id": "kkPoPFlvwtAO"
      }
    },
    {
      "cell_type": "code",
      "source": [
        "# Adição\n",
        "10 + 2"
      ],
      "metadata": {
        "colab": {
          "base_uri": "https://localhost:8080/"
        },
        "id": "PmUaoeRkrGqA",
        "outputId": "fe2fc639-35ca-4674-e7b0-812451fa173a"
      },
      "execution_count": null,
      "outputs": [
        {
          "output_type": "execute_result",
          "data": {
            "text/plain": [
              "12"
            ]
          },
          "metadata": {},
          "execution_count": 41
        }
      ]
    },
    {
      "cell_type": "code",
      "source": [
        "# Subtração\n",
        "10 - 2"
      ],
      "metadata": {
        "colab": {
          "base_uri": "https://localhost:8080/"
        },
        "id": "8gWudHWFvShV",
        "outputId": "c335a657-b8d7-4de2-dd25-fe0b14fc7e33"
      },
      "execution_count": null,
      "outputs": [
        {
          "output_type": "execute_result",
          "data": {
            "text/plain": [
              "8"
            ]
          },
          "metadata": {},
          "execution_count": 42
        }
      ]
    },
    {
      "cell_type": "code",
      "source": [
        "# Multiplicação\n",
        "10 * 2"
      ],
      "metadata": {
        "colab": {
          "base_uri": "https://localhost:8080/"
        },
        "id": "P_JLvYpqve3_",
        "outputId": "d5d6c726-0920-41d3-c55e-665ff2194bbf"
      },
      "execution_count": null,
      "outputs": [
        {
          "output_type": "execute_result",
          "data": {
            "text/plain": [
              "20"
            ]
          },
          "metadata": {},
          "execution_count": 43
        }
      ]
    },
    {
      "cell_type": "code",
      "source": [
        "# Divisão\n",
        "10 / 2"
      ],
      "metadata": {
        "colab": {
          "base_uri": "https://localhost:8080/"
        },
        "id": "JN4QluJlxBjm",
        "outputId": "b332a77c-2834-4748-b05c-2755620b158f"
      },
      "execution_count": null,
      "outputs": [
        {
          "output_type": "execute_result",
          "data": {
            "text/plain": [
              "5.0"
            ]
          },
          "metadata": {},
          "execution_count": 44
        }
      ]
    },
    {
      "cell_type": "code",
      "source": [
        "# Divisão inteira\n",
        "10 // 2"
      ],
      "metadata": {
        "colab": {
          "base_uri": "https://localhost:8080/"
        },
        "id": "Gg0uC-8wvmlv",
        "outputId": "ef2b847e-929a-458c-91d2-b9195e8d1345"
      },
      "execution_count": null,
      "outputs": [
        {
          "output_type": "execute_result",
          "data": {
            "text/plain": [
              "5"
            ]
          },
          "metadata": {},
          "execution_count": 45
        }
      ]
    },
    {
      "cell_type": "code",
      "source": [
        "# Resto de divisão\n",
        "10 % 2"
      ],
      "metadata": {
        "colab": {
          "base_uri": "https://localhost:8080/"
        },
        "id": "epbJcf1Lv4kH",
        "outputId": "c6adf220-8da2-417a-94c3-d037cf678609"
      },
      "execution_count": null,
      "outputs": [
        {
          "output_type": "execute_result",
          "data": {
            "text/plain": [
              "0"
            ]
          },
          "metadata": {},
          "execution_count": 46
        }
      ]
    },
    {
      "cell_type": "code",
      "source": [
        "# Potenciação\n",
        "10 ** 2"
      ],
      "metadata": {
        "colab": {
          "base_uri": "https://localhost:8080/"
        },
        "id": "AAPf4Bd6wBNP",
        "outputId": "ad538670-8ab9-4fe6-d92a-39996ef39b14"
      },
      "execution_count": null,
      "outputs": [
        {
          "output_type": "execute_result",
          "data": {
            "text/plain": [
              "100"
            ]
          },
          "metadata": {},
          "execution_count": 47
        }
      ]
    },
    {
      "cell_type": "markdown",
      "source": [
        "# Operadores relacionais"
      ],
      "metadata": {
        "id": "AC7u27pvxKKV"
      }
    },
    {
      "cell_type": "code",
      "source": [
        "# Menor\n",
        "10 < 2"
      ],
      "metadata": {
        "colab": {
          "base_uri": "https://localhost:8080/"
        },
        "id": "wJPnxk4SxN0G",
        "outputId": "14f8f7ca-5786-4a3a-c2a1-6b38ec03594f"
      },
      "execution_count": null,
      "outputs": [
        {
          "output_type": "execute_result",
          "data": {
            "text/plain": [
              "False"
            ]
          },
          "metadata": {},
          "execution_count": 48
        }
      ]
    },
    {
      "cell_type": "code",
      "source": [
        "# Maior\n",
        "10 > 2"
      ],
      "metadata": {
        "colab": {
          "base_uri": "https://localhost:8080/"
        },
        "id": "-GDYeEdPxTgu",
        "outputId": "cdcb5054-0bc2-44cc-fd01-c46c134f97ed"
      },
      "execution_count": null,
      "outputs": [
        {
          "output_type": "execute_result",
          "data": {
            "text/plain": [
              "True"
            ]
          },
          "metadata": {},
          "execution_count": 49
        }
      ]
    },
    {
      "cell_type": "code",
      "source": [
        "# Maior ou igual\n",
        "10 >= 2"
      ],
      "metadata": {
        "colab": {
          "base_uri": "https://localhost:8080/"
        },
        "id": "JCPMFYyoxXAu",
        "outputId": "efef06dc-15a4-4593-8733-14b363feadb7"
      },
      "execution_count": null,
      "outputs": [
        {
          "output_type": "execute_result",
          "data": {
            "text/plain": [
              "True"
            ]
          },
          "metadata": {},
          "execution_count": 50
        }
      ]
    },
    {
      "cell_type": "code",
      "source": [
        "# Igual\n",
        "7 == 7"
      ],
      "metadata": {
        "colab": {
          "base_uri": "https://localhost:8080/"
        },
        "id": "DfqnGFsaxcum",
        "outputId": "14610553-c3ca-4167-b592-f47e63261c93"
      },
      "execution_count": null,
      "outputs": [
        {
          "output_type": "execute_result",
          "data": {
            "text/plain": [
              "True"
            ]
          },
          "metadata": {},
          "execution_count": 51
        }
      ]
    },
    {
      "cell_type": "code",
      "source": [
        "# Diferente\n",
        "7 != 7"
      ],
      "metadata": {
        "colab": {
          "base_uri": "https://localhost:8080/"
        },
        "id": "gD1tHC6Cxk92",
        "outputId": "7635e18e-7453-4b90-89f2-43fea25e617e"
      },
      "execution_count": null,
      "outputs": [
        {
          "output_type": "execute_result",
          "data": {
            "text/plain": [
              "False"
            ]
          },
          "metadata": {},
          "execution_count": 52
        }
      ]
    },
    {
      "cell_type": "markdown",
      "source": [
        "# Operadores lógicos\n",
        "- And\n",
        "- Or\n",
        "- Not"
      ],
      "metadata": {
        "id": "DcjhvMZu5pT7"
      }
    },
    {
      "cell_type": "markdown",
      "source": [
        "Tabela verdade"
      ],
      "metadata": {
        "id": "6FWWvf1L6Etr"
      }
    },
    {
      "cell_type": "code",
      "source": [
        "print(10 > 2 and 4 < 6)  # V and V - V\n",
        "print(10 > 2 and 4 > 6)  # V and F - F\n",
        "print(10 < 2 and 4 < 6)  # F and V - F\n",
        "print(10 < 2 and 4 > 6)  # F and F - F"
      ],
      "metadata": {
        "colab": {
          "base_uri": "https://localhost:8080/"
        },
        "id": "tDd_q1d46GLz",
        "outputId": "f422a32b-fb6d-4edc-89f0-f033eb8b22f0"
      },
      "execution_count": null,
      "outputs": [
        {
          "output_type": "stream",
          "name": "stdout",
          "text": [
            "True\n",
            "False\n",
            "False\n",
            "False\n"
          ]
        }
      ]
    },
    {
      "cell_type": "markdown",
      "source": [
        "Or"
      ],
      "metadata": {
        "id": "y8Yt-Lfq7A4j"
      }
    },
    {
      "cell_type": "code",
      "source": [
        "print(10 > 2 or 4 < 6)  # V or V - V\n",
        "print(10 > 2 or 4 > 6)  # V or F - V\n",
        "print(10 < 2 or 4 > 6)  # F or V - F"
      ],
      "metadata": {
        "colab": {
          "base_uri": "https://localhost:8080/"
        },
        "id": "N77oL32X7BgT",
        "outputId": "936763db-97ea-42aa-dd57-ec215539b66e"
      },
      "execution_count": null,
      "outputs": [
        {
          "output_type": "stream",
          "name": "stdout",
          "text": [
            "True\n",
            "True\n",
            "False\n"
          ]
        }
      ]
    },
    {
      "cell_type": "markdown",
      "source": [
        "Not"
      ],
      "metadata": {
        "id": "OR5qN7x47m_C"
      }
    },
    {
      "cell_type": "code",
      "source": [
        "not 10 > 2 # V - F"
      ],
      "metadata": {
        "colab": {
          "base_uri": "https://localhost:8080/"
        },
        "id": "zCtYU_5-7oET",
        "outputId": "1f5e9101-5ea9-4a4c-dd60-ae079e1265e6"
      },
      "execution_count": null,
      "outputs": [
        {
          "output_type": "execute_result",
          "data": {
            "text/plain": [
              "False"
            ]
          },
          "metadata": {},
          "execution_count": 55
        }
      ]
    },
    {
      "cell_type": "code",
      "source": [
        "not 10 < 2 # F - V"
      ],
      "metadata": {
        "colab": {
          "base_uri": "https://localhost:8080/"
        },
        "id": "ykIqiD_671Eb",
        "outputId": "b30ac459-7e9f-4f53-964d-73154746e883"
      },
      "execution_count": null,
      "outputs": [
        {
          "output_type": "execute_result",
          "data": {
            "text/plain": [
              "True"
            ]
          },
          "metadata": {},
          "execution_count": 56
        }
      ]
    },
    {
      "cell_type": "markdown",
      "source": [
        "## Variáveis\n",
        " Variáveis estão alocadas em espaços na memória Ao criar uma variável  \n",
        " • Python aloca um espaço na memória • Referencia utilizando o nome atribuído à variável pelo programador no momento de sua criação • Exemplo “”” Nome da variável é “x” que armazena o valor 10 em um espaço na memória “”” >>> x = 10 >>> print(x)\n",
        "\n",
        " Regras de variáveis Nome da variável • Começar com letra (a-z, A-Z) ou sublinhado ( _ ) • São Case Sensitive (Diferença entre letras maiúscula e minúscula) • Exemplo >>> A !=a"
      ],
      "metadata": {
        "id": "VCFklGZkf1MR"
      }
    },
    {
      "cell_type": "code",
      "source": [
        "# Nome de variável é ''x'' que armazena o valor 10 em um espaço de memória\n",
        "x = 10\n",
        "print(x)"
      ],
      "metadata": {
        "colab": {
          "base_uri": "https://localhost:8080/"
        },
        "id": "LP2LJEckgHkw",
        "outputId": "25a59c17-fbab-4fbf-cc17-29fcf65d843c"
      },
      "execution_count": null,
      "outputs": [
        {
          "output_type": "stream",
          "name": "stdout",
          "text": [
            "10\n"
          ]
        }
      ]
    },
    {
      "cell_type": "code",
      "source": [
        "y = 20\n",
        "print(y)"
      ],
      "metadata": {
        "colab": {
          "base_uri": "https://localhost:8080/"
        },
        "id": "FwOL13wDgYvw",
        "outputId": "4282c96b-39a5-4ac2-a762-12c601d78aeb"
      },
      "execution_count": null,
      "outputs": [
        {
          "output_type": "stream",
          "name": "stdout",
          "text": [
            "20\n"
          ]
        }
      ]
    },
    {
      "cell_type": "code",
      "source": [
        "nome = 'Gabriel Araújo de Andrade'\n",
        "print(nome)"
      ],
      "metadata": {
        "colab": {
          "base_uri": "https://localhost:8080/"
        },
        "id": "pnjhvW2PlN9B",
        "outputId": "2c7f7ab3-61ae-460d-d7a1-91ab3c2d28db"
      },
      "execution_count": null,
      "outputs": [
        {
          "output_type": "stream",
          "name": "stdout",
          "text": [
            "Gabriel Araújo de Andrade\n"
          ]
        }
      ]
    },
    {
      "cell_type": "markdown",
      "source": [
        "# *Concatenação*"
      ],
      "metadata": {
        "id": "eWaFL0H7lfnx"
      }
    },
    {
      "cell_type": "code",
      "source": [
        "x = 5\n",
        "print('O valor de x é',x)"
      ],
      "metadata": {
        "colab": {
          "base_uri": "https://localhost:8080/"
        },
        "id": "CW5Mo82llZGP",
        "outputId": "43f7e0ca-30f6-4a07-db58-9eba297ad332"
      },
      "execution_count": null,
      "outputs": [
        {
          "output_type": "stream",
          "name": "stdout",
          "text": [
            "O valor de x é 5\n"
          ]
        }
      ]
    },
    {
      "cell_type": "code",
      "source": [
        "print('O valor de x é', x, 'e o dobro de é', x *2)"
      ],
      "metadata": {
        "colab": {
          "base_uri": "https://localhost:8080/"
        },
        "id": "dapSA0fHmlEn",
        "outputId": "42fc2c3b-8f4b-4ea0-cf1c-6834540270fb"
      },
      "execution_count": null,
      "outputs": [
        {
          "output_type": "stream",
          "name": "stdout",
          "text": [
            "O valor de x é 5 e o dobro de é 10\n"
          ]
        }
      ]
    },
    {
      "cell_type": "code",
      "source": [
        "print('Eu,', nome, 'tirei', y,'na prova')"
      ],
      "metadata": {
        "colab": {
          "base_uri": "https://localhost:8080/"
        },
        "id": "rN6Avn51mFdQ",
        "outputId": "f1ce5c3c-9e00-4107-bac1-fca32f374eca"
      },
      "execution_count": null,
      "outputs": [
        {
          "output_type": "stream",
          "name": "stdout",
          "text": [
            "Eu, Gabriel Araújo de Andrade tirei 20 na prova\n"
          ]
        }
      ]
    },
    {
      "cell_type": "markdown",
      "source": [
        "# Type"
      ],
      "metadata": {
        "id": "Ul334HplqpOi"
      }
    },
    {
      "cell_type": "code",
      "source": [
        "x = 10\n",
        "type(x)\n",
        "print('x', type(x))\n",
        "\n",
        "nome = 'Gabriel Araújo de Andrade'\n",
        "print('nome', type(nome))\n",
        "\n",
        "num = 100\n",
        "num_convert = int(num) # Converter variavél\n",
        "print('num', type(num))\n",
        "print('num_convert', type(num_convert))\n",
        "\n",
        "num_float = float(num)\n",
        "print('num_float', type(num_float))"
      ],
      "metadata": {
        "colab": {
          "base_uri": "https://localhost:8080/"
        },
        "id": "bt04FYdHmB4Q",
        "outputId": "6a53db64-4fe9-4d2c-e320-b9ef45f5e70b"
      },
      "execution_count": null,
      "outputs": [
        {
          "output_type": "stream",
          "name": "stdout",
          "text": [
            "x <class 'int'>\n",
            "nome <class 'str'>\n",
            "num <class 'int'>\n",
            "num_convert <class 'int'>\n",
            "num_float <class 'float'>\n"
          ]
        }
      ]
    },
    {
      "cell_type": "markdown",
      "source": [
        "# Input\n",
        "* Armazenar a informação digitada pelo usuário em uma variável\n",
        "* O dado armadezado sempre será um texto"
      ],
      "metadata": {
        "id": "omlmtBXMu9IN"
      }
    },
    {
      "cell_type": "code",
      "source": [
        "nome = input('Digite o nome do usuário') # Aguarda o usuário digitar algo\n",
        "print(nome)"
      ],
      "metadata": {
        "colab": {
          "base_uri": "https://localhost:8080/"
        },
        "id": "DHIZOExUl45J",
        "outputId": "696b066c-876e-4ae7-97d9-ea9823617ca4"
      },
      "execution_count": null,
      "outputs": [
        {
          "output_type": "stream",
          "name": "stdout",
          "text": [
            "Digite o nome do usuárioGabriel\n",
            "Gabriel\n"
          ]
        }
      ]
    },
    {
      "cell_type": "code",
      "source": [
        "valor = input('Digite um valor')\n",
        "print(nome, ' sua nota foi', valor)"
      ],
      "metadata": {
        "colab": {
          "base_uri": "https://localhost:8080/"
        },
        "id": "8TP2iahZzSjq",
        "outputId": "afdd7754-c8d5-492e-bcb5-5069dd66c751"
      },
      "execution_count": null,
      "outputs": [
        {
          "output_type": "stream",
          "name": "stdout",
          "text": [
            "Digite um valor10\n",
            "Gabriel  sua nota foi 10\n"
          ]
        }
      ]
    },
    {
      "cell_type": "code",
      "source": [
        "valor = input('Digite o valor do produto')\n",
        "print(valor)"
      ],
      "metadata": {
        "colab": {
          "base_uri": "https://localhost:8080/"
        },
        "id": "QeYYmFae0LUL",
        "outputId": "981909a5-4434-43c3-80ad-c668d4fbc9f6"
      },
      "execution_count": null,
      "outputs": [
        {
          "output_type": "stream",
          "name": "stdout",
          "text": [
            "Digite o valor do produto6\n",
            "6\n"
          ]
        }
      ]
    },
    {
      "cell_type": "code",
      "source": [
        "valor_convert = int(valor)\n",
        "desconto = valor_convert - 5\n",
        "print(desconto)"
      ],
      "metadata": {
        "colab": {
          "base_uri": "https://localhost:8080/"
        },
        "id": "GZ_Uv-F_0c9a",
        "outputId": "2082b433-38a9-4d8e-aafa-aff2001c7a0a"
      },
      "execution_count": null,
      "outputs": [
        {
          "output_type": "stream",
          "name": "stdout",
          "text": [
            "1\n"
          ]
        }
      ]
    },
    {
      "cell_type": "markdown",
      "source": [
        "Lista, Tupla , dicionário"
      ],
      "metadata": {
        "id": "YSyHYPJ6M7sc"
      }
    },
    {
      "cell_type": "code",
      "source": [
        "# Lista\n",
        "[1,2,3,4]"
      ],
      "metadata": {
        "id": "hmxxS_Os1bhT",
        "colab": {
          "base_uri": "https://localhost:8080/"
        },
        "outputId": "6717f45a-a756-428d-fba4-134683fb5548"
      },
      "execution_count": null,
      "outputs": [
        {
          "output_type": "execute_result",
          "data": {
            "text/plain": [
              "[1, 2, 3, 4]"
            ]
          },
          "metadata": {},
          "execution_count": 68
        }
      ]
    },
    {
      "cell_type": "code",
      "source": [
        "# Tupla\n",
        "(1,2,3,4)"
      ],
      "metadata": {
        "colab": {
          "base_uri": "https://localhost:8080/"
        },
        "id": "pAb-4V6ONGPs",
        "outputId": "927cf143-0f64-4262-a8f5-367f968bf19a"
      },
      "execution_count": null,
      "outputs": [
        {
          "output_type": "execute_result",
          "data": {
            "text/plain": [
              "(1, 2, 3, 4)"
            ]
          },
          "metadata": {},
          "execution_count": 69
        }
      ]
    },
    {
      "cell_type": "code",
      "source": [
        "# Dicionário\n",
        "{'num1': 1, 'num2': 2, 'num3': 3}"
      ],
      "metadata": {
        "colab": {
          "base_uri": "https://localhost:8080/"
        },
        "id": "99Bn_XbMNKyy",
        "outputId": "1f458553-1acc-4a68-b7e7-7233dab4f0e1"
      },
      "execution_count": null,
      "outputs": [
        {
          "output_type": "execute_result",
          "data": {
            "text/plain": [
              "{'num1': 1, 'num2': 2, 'num3': 3}"
            ]
          },
          "metadata": {},
          "execution_count": 70
        }
      ]
    },
    {
      "cell_type": "markdown",
      "source": [
        "Lista"
      ],
      "metadata": {
        "id": "-FBr1Lf2NnIU"
      }
    },
    {
      "cell_type": "code",
      "source": [
        "lista = [5, 'Gabriel', 9,8]"
      ],
      "metadata": {
        "id": "OCjS5dmINcBi"
      },
      "execution_count": null,
      "outputs": []
    },
    {
      "cell_type": "code",
      "source": [
        "type(lista)"
      ],
      "metadata": {
        "colab": {
          "base_uri": "https://localhost:8080/"
        },
        "id": "dOBKTBTlN6NT",
        "outputId": "ead11d21-0dd6-4e80-ddb5-326f2a992075"
      },
      "execution_count": null,
      "outputs": [
        {
          "output_type": "execute_result",
          "data": {
            "text/plain": [
              "list"
            ]
          },
          "metadata": {},
          "execution_count": 72
        }
      ]
    },
    {
      "cell_type": "code",
      "source": [
        "lista.append('Aluno') # Adicionar um elemento a lista"
      ],
      "metadata": {
        "id": "sw9oMQPWN9qS"
      },
      "execution_count": null,
      "outputs": []
    },
    {
      "cell_type": "code",
      "source": [
        "print(lista)\n",
        "print(lista[4])"
      ],
      "metadata": {
        "colab": {
          "base_uri": "https://localhost:8080/"
        },
        "id": "tVGtyQckOMly",
        "outputId": "7386ed2f-9065-4bf4-9da8-6bf58dcbbc8a"
      },
      "execution_count": null,
      "outputs": [
        {
          "output_type": "stream",
          "name": "stdout",
          "text": [
            "[5, 'Gabriel', 9, 8, 'Aluno']\n",
            "Aluno\n"
          ]
        }
      ]
    },
    {
      "cell_type": "markdown",
      "source": [
        "Tupla"
      ],
      "metadata": {
        "id": "qbL-Kle2PNQz"
      }
    },
    {
      "cell_type": "code",
      "source": [
        "tupla = (5, 'Gabriel', 9,8)"
      ],
      "metadata": {
        "id": "OeoqfJIaPNAD"
      },
      "execution_count": null,
      "outputs": []
    },
    {
      "cell_type": "code",
      "source": [
        "type(tupla)"
      ],
      "metadata": {
        "colab": {
          "base_uri": "https://localhost:8080/"
        },
        "id": "OpoJG8gOPS25",
        "outputId": "f33d10d8-c074-4da2-cb24-a0fbaa42a50c"
      },
      "execution_count": null,
      "outputs": [
        {
          "output_type": "execute_result",
          "data": {
            "text/plain": [
              "tuple"
            ]
          },
          "metadata": {},
          "execution_count": 76
        }
      ]
    },
    {
      "cell_type": "markdown",
      "source": [
        "Dicionário"
      ],
      "metadata": {
        "id": "zE87cYciPifS"
      }
    },
    {
      "cell_type": "code",
      "source": [
        "dicionario = {'nome': 'Gabriel', 'cidade' : 'Riacho fundo II'}"
      ],
      "metadata": {
        "id": "8A5SyreCPWu5"
      },
      "execution_count": null,
      "outputs": []
    },
    {
      "cell_type": "code",
      "source": [
        "type(dicionario)"
      ],
      "metadata": {
        "colab": {
          "base_uri": "https://localhost:8080/"
        },
        "id": "CMHNFDzYP_gp",
        "outputId": "ce9146a9-ea41-42ba-bf4c-f6e06665eaf6"
      },
      "execution_count": null,
      "outputs": [
        {
          "output_type": "execute_result",
          "data": {
            "text/plain": [
              "dict"
            ]
          },
          "metadata": {},
          "execution_count": 78
        }
      ]
    },
    {
      "cell_type": "code",
      "source": [
        "print(dicionario)"
      ],
      "metadata": {
        "colab": {
          "base_uri": "https://localhost:8080/"
        },
        "id": "yMGjUlPLRGw4",
        "outputId": "565cbeab-b5ff-4b47-bd42-e6f866e0c957"
      },
      "execution_count": null,
      "outputs": [
        {
          "output_type": "stream",
          "name": "stdout",
          "text": [
            "{'nome': 'Gabriel', 'cidade': 'Riacho fundo II'}\n"
          ]
        }
      ]
    },
    {
      "cell_type": "code",
      "source": [
        "print(dicionario['nome'])"
      ],
      "metadata": {
        "colab": {
          "base_uri": "https://localhost:8080/"
        },
        "id": "zABNBD-wQKRo",
        "outputId": "ff977f65-52c4-46c8-d603-0fecde0aec63"
      },
      "execution_count": null,
      "outputs": [
        {
          "output_type": "stream",
          "name": "stdout",
          "text": [
            "Gabriel\n"
          ]
        }
      ]
    },
    {
      "cell_type": "code",
      "source": [
        "dicionario['ultimo nome'] = 'Araujo de Andrade'"
      ],
      "metadata": {
        "id": "2uyRGsduRoxX"
      },
      "execution_count": null,
      "outputs": []
    },
    {
      "cell_type": "code",
      "source": [
        "print(dicionario)"
      ],
      "metadata": {
        "colab": {
          "base_uri": "https://localhost:8080/"
        },
        "id": "bo4XXHakR6k3",
        "outputId": "503a4d38-5458-4ddb-b8eb-eaee70267cbf"
      },
      "execution_count": null,
      "outputs": [
        {
          "output_type": "stream",
          "name": "stdout",
          "text": [
            "{'nome': 'Gabriel', 'cidade': 'Riacho fundo II', 'ultimo nome': 'Araujo de Andrade'}\n"
          ]
        }
      ]
    },
    {
      "cell_type": "markdown",
      "source": [
        "# Estrutura de repetição\n",
        "\n",
        "> For\n",
        "\n"
      ],
      "metadata": {
        "id": "GqIYgJIzUKHP"
      }
    },
    {
      "cell_type": "code",
      "source": [
        "# For range\n",
        "for contador in range(10):\n",
        "  print(contador)"
      ],
      "metadata": {
        "colab": {
          "base_uri": "https://localhost:8080/"
        },
        "id": "zzpLpEhhUNK3",
        "outputId": "b54038b7-02c3-45c3-9989-196290def1af"
      },
      "execution_count": null,
      "outputs": [
        {
          "output_type": "stream",
          "name": "stdout",
          "text": [
            "0\n",
            "1\n",
            "2\n",
            "3\n",
            "4\n",
            "5\n",
            "6\n",
            "7\n",
            "8\n",
            "9\n"
          ]
        }
      ]
    },
    {
      "cell_type": "code",
      "source": [
        "# For range + break\n",
        "for contador in range(100):\n",
        " print(contador)\n",
        " if contador == 2:\n",
        "   break"
      ],
      "metadata": {
        "colab": {
          "base_uri": "https://localhost:8080/"
        },
        "id": "slqjmZ2KUnY3",
        "outputId": "34967a91-a5cb-472d-8a17-1cafd0c1f9fa"
      },
      "execution_count": null,
      "outputs": [
        {
          "output_type": "stream",
          "name": "stdout",
          "text": [
            "0\n",
            "1\n",
            "2\n"
          ]
        }
      ]
    },
    {
      "cell_type": "code",
      "source": [
        "lista = ['lista1', 'lista2', 'lista3']"
      ],
      "metadata": {
        "id": "heyKqoWpU0Ow"
      },
      "execution_count": null,
      "outputs": []
    },
    {
      "cell_type": "code",
      "source": [
        "# For simples\n",
        "for val in lista:\n",
        " print(val)"
      ],
      "metadata": {
        "colab": {
          "base_uri": "https://localhost:8080/"
        },
        "id": "b-xGdMMVVm0X",
        "outputId": "252f31e5-ef5b-40cf-c245-1628e7e7a77f"
      },
      "execution_count": null,
      "outputs": [
        {
          "output_type": "stream",
          "name": "stdout",
          "text": [
            "lista1\n",
            "lista2\n",
            "lista3\n"
          ]
        }
      ]
    },
    {
      "cell_type": "code",
      "source": [
        "# For enumerate\n",
        "for i, val in enumerate(lista):\n",
        "  print(i, val)"
      ],
      "metadata": {
        "colab": {
          "base_uri": "https://localhost:8080/"
        },
        "id": "yIQLpFDTVv0f",
        "outputId": "70499805-19a9-4eac-d802-f53714b3804d"
      },
      "execution_count": null,
      "outputs": [
        {
          "output_type": "stream",
          "name": "stdout",
          "text": [
            "0 lista1\n",
            "1 lista2\n",
            "2 lista3\n"
          ]
        }
      ]
    },
    {
      "cell_type": "markdown",
      "source": [
        "# for com operadores compostos\n"
      ],
      "metadata": {
        "id": "d6LeVn1pWuQ3"
      }
    },
    {
      "cell_type": "code",
      "source": [
        "lista2 = [2,3,4]"
      ],
      "metadata": {
        "id": "xkDRkMHrW0Tv"
      },
      "execution_count": null,
      "outputs": []
    },
    {
      "cell_type": "code",
      "source": [
        "for val in lista2:\n",
        "  val += 1\n",
        "  print(val)"
      ],
      "metadata": {
        "colab": {
          "base_uri": "https://localhost:8080/"
        },
        "id": "gGmm8d8WXN4P",
        "outputId": "9828f374-60e6-4243-f2e7-e7f353ec6989"
      },
      "execution_count": null,
      "outputs": [
        {
          "output_type": "stream",
          "name": "stdout",
          "text": [
            "3\n",
            "4\n",
            "5\n"
          ]
        }
      ]
    },
    {
      "cell_type": "code",
      "source": [
        "for val in lista2:\n",
        "    val *= 2\n",
        "    print(val)"
      ],
      "metadata": {
        "colab": {
          "base_uri": "https://localhost:8080/"
        },
        "id": "neyPV2GAXUze",
        "outputId": "3d6d6740-deb5-4d5b-eeb2-48ab1a40140c"
      },
      "execution_count": null,
      "outputs": [
        {
          "output_type": "stream",
          "name": "stdout",
          "text": [
            "4\n",
            "6\n",
            "8\n"
          ]
        }
      ]
    },
    {
      "cell_type": "markdown",
      "source": [
        "# While"
      ],
      "metadata": {
        "id": "ktvu1JyGYL8e"
      }
    },
    {
      "cell_type": "code",
      "source": [
        "val = 1\n",
        "while (val < 6):\n",
        "  val *=2\n",
        "  print(val)"
      ],
      "metadata": {
        "colab": {
          "base_uri": "https://localhost:8080/"
        },
        "id": "LagZhz4jYQG-",
        "outputId": "ad011354-03b9-4305-956b-865cdd802f4f"
      },
      "execution_count": null,
      "outputs": [
        {
          "output_type": "stream",
          "name": "stdout",
          "text": [
            "2\n",
            "4\n",
            "8\n"
          ]
        }
      ]
    },
    {
      "cell_type": "code",
      "source": [
        "# While com Else\n",
        "val = 10\n",
        "while val < 6:\n",
        " val *=2\n",
        "else:\n",
        " print('valor de val é', val)"
      ],
      "metadata": {
        "colab": {
          "base_uri": "https://localhost:8080/"
        },
        "id": "Cxh5VEtwYyLO",
        "outputId": "205409d7-3ed8-47fd-ed4e-96a0367121ae"
      },
      "execution_count": null,
      "outputs": [
        {
          "output_type": "stream",
          "name": "stdout",
          "text": [
            "valor de val é 10\n"
          ]
        }
      ]
    },
    {
      "cell_type": "code",
      "source": [
        "# While com Else\n",
        "val = 4\n",
        "while val < 10:\n",
        " val *=2\n",
        "else:\n",
        " print('valor de val é', val)"
      ],
      "metadata": {
        "colab": {
          "base_uri": "https://localhost:8080/"
        },
        "id": "wg1QrND1ZIym",
        "outputId": "a24c2af6-8760-4559-8e23-88cbbe08d98f"
      },
      "execution_count": null,
      "outputs": [
        {
          "output_type": "stream",
          "name": "stdout",
          "text": [
            "valor de val é 16\n"
          ]
        }
      ]
    }
  ]
}